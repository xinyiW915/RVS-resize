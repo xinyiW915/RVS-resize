{
 "cells": [
  {
   "cell_type": "code",
   "execution_count": 41,
   "metadata": {
    "collapsed": true
   },
   "outputs": [],
   "source": [
    "# Load libraries\n",
    "from sklearn import model_selection\n",
    "import os\n",
    "import warnings\n",
    "import time\n",
    "import random as rnd\n",
    "import scipy.io\n",
    "from sklearn.svm import SVR\n",
    "import numpy as np\n",
    "import pandas as pd\n",
    "from sklearn.svm import SVC\n",
    "from sklearn.preprocessing import MinMaxScaler\n",
    "from sklearn.metrics import mean_squared_error\n",
    "from sklearn.externals import joblib\n",
    "# import joblib\n",
    "from scipy.optimize import curve_fit\n",
    "\n",
    "import matplotlib.pyplot as plt\n",
    "from matplotlib import rc\n",
    "import pandas\n",
    "import seaborn as sn\n",
    "# ignore all warnings\n",
    "warnings.filterwarnings(\"ignore\")"
   ]
  },
  {
   "cell_type": "markdown",
   "source": [
    "# ===========================================================================\n",
    "# Here starts the main part of the script\n",
    "#"
   ],
   "metadata": {
    "collapsed": false
   }
  },
  {
   "cell_type": "code",
   "execution_count": 42,
   "outputs": [],
   "source": [
    "def logistic_func(X1, bayta1, bayta2, bayta3, bayta4):\n",
    "    logisticPart = 1 + np.exp(np.negative(np.divide(X1 - bayta3, np.abs(bayta4))))\n",
    "    yhat = bayta2 + np.divide(bayta1 - bayta2, logisticPart)\n",
    "    return yhat"
   ],
   "metadata": {
    "collapsed": false
   }
  },
  {
   "cell_type": "code",
   "execution_count": 43,
   "outputs": [],
   "source": [
    "def curve_bounds(x, params, sigma):\n",
    "    upper_bound = logistic_func(x, params[0] + 2 * sigma[0], params[1] + 2 * sigma[1], params[2] + 2 * sigma[2], params[3] + 2 * sigma[3])\n",
    "    lower_bound = logistic_func(x, params[0] - 2 * sigma[0], params[1] - 2 * sigma[1], params[2] - 2 * sigma[2], params[3] + 2 * sigma[3])\n",
    "    return upper_bound, lower_bound"
   ],
   "metadata": {
    "collapsed": false
   }
  },
  {
   "cell_type": "code",
   "execution_count": 44,
   "outputs": [
    {
     "data": {
      "text/plain": "'one'"
     },
     "execution_count": 44,
     "metadata": {},
     "output_type": "execute_result"
    }
   ],
   "source": [
    "pred_option = 'one'\n",
    "pred_option"
   ],
   "metadata": {
    "collapsed": false
   }
  },
  {
   "cell_type": "markdown",
   "source": [
    "# pred_MOS_one"
   ],
   "metadata": {
    "collapsed": false
   }
  },
  {
   "cell_type": "code",
   "execution_count": 45,
   "outputs": [],
   "source": [
    "if pred_option == 'one':\n",
    "    '''======================== parameters ================================'''\n",
    "    model_name = 'SVR'\n",
    "\n",
    "    resolution_op = '/all/' #'/resolution/', '/all/'\n",
    "    model_path = '../model' + resolution_op\n",
    "    fig_path = '../fig' #+ resolution_op\n",
    "\n",
    "    data_split = False\n",
    "    algo_name1 = 'NSS_CNN'\n",
    "    f'data_split: {data_split}'"
   ],
   "metadata": {
    "collapsed": false
   }
  },
  {
   "cell_type": "code",
   "execution_count": 46,
   "outputs": [],
   "source": [
    "if pred_option == 'one':\n",
    "    if data_split == True:\n",
    "        data_name = 'YOUTUBE_UGC_360P'\n",
    "        train_data = 'train_' + data_name   # 'train_KONVID_1K/train_YOUTUBE_UGC_ALL/train_COMBINED'\n",
    "        test_data = 'test_' + data_name   # 'test_KONVID_1K/test_YOUTUBE_UGC_ALL/test_COMBINED'\n",
    "        resolution_name = 'test_' + data_name   # 'KONVID_1K/YOUTUBE_UGC_ALL/COMBINED'\n",
    "\n",
    "        # read npy for train_test_split\n",
    "        npy_feats_test1 = np.load('../train_test' + resolution_op + test_data + '_' + algo_name1 + '_'  + 'feats.npy', allow_pickle=True)\n",
    "        npy_scores_test1 = np.load('../train_test' + resolution_op + test_data + '_' + algo_name1 + '_' + 'scores.npy', allow_pickle=True)\n",
    "        try:\n",
    "            video_name1 = npy_scores_test1[:, 0]\n",
    "            mos1 = npy_scores_test1[:, 1]\n",
    "        except:\n",
    "            raise Exception('Read npy file error!')\n",
    "        '''======================== read files =============================== '''\n",
    "        X1 = npy_feats_test1\n",
    "        X1[np.isnan(X1)] = 0\n",
    "        X1[np.isinf(X1)] = 0\n",
    "        print(f'mos: {len(mos1)}')\n",
    "\n",
    "        # save model\n",
    "        model_file1 = os.path.join(model_path, train_data + '_' + algo_name1 + '_trained_svr.pkl')\n",
    "        scaler_file1 = os.path.join(model_path, train_data + '_' + algo_name1 + '_trained_scaler.pkl')\n",
    "        pars_file1 = os.path.join(model_path, train_data + '_' + algo_name1 + '_logistic_pars.mat')\n",
    "\n",
    "        print(\"Predict quality scores using pretrained {} with {} on split dataset {} ...\".format(train_data + '_' + algo_name1 , model_name, test_data))\n",
    "\n",
    "        '''======================== read saved model =============================== '''\n",
    "        model1 = joblib.load(model_file1)\n",
    "        scaler1 = joblib.load(scaler_file1)\n",
    "        popt1 = np.asarray(scipy.io.loadmat(pars_file1)['popt'][0], dtype=np.float)\n",
    "\n",
    "        X1 = scaler1.transform(X1)\n",
    "        y_pred1 = model1.predict(X1)\n",
    "        y1 = logistic_func(y_pred1, *popt1)\n",
    "        # print('Predicted MOS in [1,5]:')\n",
    "        # print(y1)"
   ],
   "metadata": {
    "collapsed": false
   }
  },
  {
   "cell_type": "code",
   "execution_count": 47,
   "outputs": [
    {
     "name": "stdout",
     "output_type": "stream",
     "text": [
      "../feat_file/all/KONVID_1K_NSS_CNN_feats.mat\n",
      "Predict quality scores using pretrained train_YOUTUBE_UGC_ALL_NSS_CNN with SVR on split dataset KONVID_1K ...\n"
     ]
    }
   ],
   "source": [
    "if pred_option == 'one':\n",
    "    if data_split == False:\n",
    "        # train on one dataset, test on the other one\n",
    "        train_model_data = 'train_YOUTUBE_UGC_ALL' # 'train_KONVID_1K/train_YOUTUBE_UGC_ALL/train_COMBINED'\n",
    "        test_data = 'KONVID_1K'  # 'KONVID_1K/YOUTUBE_UGC_ALL/COMBINED'\n",
    "        resolution_name = 'KONVID_1K_testOn_YOUTUBE_UGC_ALL'  # 'KONVID_1K/YOUTUBE_UGC_ALL/COMBINED'\n",
    "\n",
    "        # read mat file for all dataset\n",
    "        csv_file = '../mos_file/' + test_data + '_metadata.csv'\n",
    "        mat_file = os.path.join('../feat_file' + resolution_op, test_data + '_' + algo_name1 + '_feats.mat')\n",
    "        print(mat_file)\n",
    "\n",
    "        '''======================== read files =============================== '''\n",
    "        X_mat = scipy.io.loadmat(mat_file)\n",
    "        X1 = np.asarray(X_mat['feats_mat'], dtype=np.float)\n",
    "        X1 = np.vstack((X1))\n",
    "        X1[np.isnan(X1)] = 0\n",
    "        X1[np.isinf(X1)] = 0\n",
    "\n",
    "        if test_data == 'KONVID_1K':\n",
    "            # read KONVID_1K\n",
    "            df1 = pandas.read_csv(csv_file)\n",
    "            video_name1 = df1['flickr_id'].tolist()\n",
    "            mos1 = df1['mos'].tolist()\n",
    "\n",
    "        elif test_data == 'YOUTUBE_UGC':\n",
    "            # read YOUTUBE_UGC\n",
    "            df3 = pandas.read_csv(csv_file)\n",
    "            video_name1 = df3['vid'].tolist()\n",
    "            mos1 = df3['MOSFull'].tolist()\n",
    "\n",
    "        # save model\n",
    "        model_file1 = os.path.join(model_path, train_model_data + '_' + algo_name1 + '_trained_svr.pkl')\n",
    "        scaler_file1 = os.path.join(model_path, train_model_data + '_' + algo_name1 + '_trained_scaler.pkl')\n",
    "        pars_file1 = os.path.join(model_path, train_model_data + '_' + algo_name1 + '_logistic_pars.mat')\n",
    "\n",
    "        print(\"Predict quality scores using pretrained {} with {} on split dataset {} ...\".format(train_model_data + '_' + algo_name1, model_name, test_data))\n",
    "\n",
    "        '''======================== read saved model =============================== '''\n",
    "        model1 = joblib.load(model_file1)\n",
    "        scaler1 = joblib.load(scaler_file1)\n",
    "        popt1 = np.asarray(scipy.io.loadmat(pars_file1)['popt'][0], dtype=np.float)\n",
    "\n",
    "        X1 = scaler1.transform(X1)\n",
    "        y_pred1 = model1.predict(X1)\n",
    "        y1 = logistic_func(y_pred1, *popt1)\n",
    "        # print('Predicted MOS in [1,5]:')\n",
    "        # print(y1)"
   ],
   "metadata": {
    "collapsed": false
   }
  },
  {
   "cell_type": "code",
   "execution_count": 48,
   "outputs": [
    {
     "name": "stdout",
     "output_type": "stream",
     "text": [
      "../result/all/KONVID_1K_testOn_YOUTUBE_UGC_ALL_NSS_CNN_Predicted_Score.csv\n"
     ]
    }
   ],
   "source": [
    "if pred_option == 'one':\n",
    "    data = {'Video_name': video_name1,\n",
    "            'MOS': mos1,\n",
    "            'y_pred1': y_pred1,\n",
    "            \"Predicted Score_\" + algo_name1: y1}\n",
    "    result = pandas.DataFrame(data)\n",
    "\n",
    "    result_path = '../result' + resolution_op + resolution_name + '_' + algo_name1 + '_Predicted_Score.csv'\n",
    "    result.to_csv(result_path, index=False, header=True)\n",
    "\n",
    "    mos1 = np.array(mos1, dtype=np.float64)\n",
    "    y1 = np.array(y1, dtype=np.float64)\n",
    "    print(result_path)\n",
    "    # result"
   ],
   "metadata": {
    "collapsed": false
   }
  },
  {
   "cell_type": "code",
   "execution_count": 49,
   "outputs": [],
   "source": [
    "if pred_option == 'one':\n",
    "    # scatter plot for one test dataset\n",
    "    # nonlinear logistic fitted curve / logistic regression\n",
    "    try:\n",
    "        beta = [np.max(mos1), np.min(mos1), np.mean(y1), 0.5]\n",
    "        popt, pcov = curve_fit(logistic_func, y1, mos1, p0=beta, maxfev=100000000)\n",
    "        sigma = np.sqrt(np.diag(pcov))\n",
    "    except:\n",
    "        raise Exception('Fitting logistic function time-out!!')"
   ],
   "metadata": {
    "collapsed": false
   }
  },
  {
   "cell_type": "code",
   "execution_count": 50,
   "outputs": [
    {
     "name": "stdout",
     "output_type": "stream",
     "text": [
      "=======================NSS_CNN===============================\n"
     ]
    },
    {
     "data": {
      "text/plain": "'../fig/all/KONVID_1K_testOn_YOUTUBE_UGC_ALL_NSS_CNN.png'"
     },
     "execution_count": 50,
     "metadata": {},
     "output_type": "execute_result"
    },
    {
     "data": {
      "text/plain": "<Figure size 640x480 with 1 Axes>",
      "image/png": "[encoded data removed]"
     },
     "metadata": {},
     "output_type": "display_data"
    }
   ],
   "source": [
    "if data_split == True:\n",
    "    if data_name == 'YOUTUBE_UGC_ALL':\n",
    "        title_name = 'YouTube-UGC'\n",
    "    elif data_name == 'KONVID_1K':\n",
    "        title_name = 'KoNViD-1k'\n",
    "    else:\n",
    "        title_name = data_name\n",
    "else:\n",
    "    if test_data == 'YOUTUBE_UGC_ALL':\n",
    "        title_name = 'YouTube-UGC test on KoNViD-1k'\n",
    "    elif test_data == 'KONVID_1K':\n",
    "        title_name = 'KoNViD-1k test on YouTube-UGC'\n",
    "    else:\n",
    "        title_name = test_data\n",
    "\n",
    "if pred_option == 'one':\n",
    "    print('=======================' + algo_name1 + '===============================')\n",
    "    fig_name = f'{fig_path}{resolution_op}{resolution_name}_{algo_name1}.png'\n",
    "\n",
    "    x_values1 = np.linspace(np.min(y1), np.max(y1), len(y1))\n",
    "    upper_bound, lower_bound = curve_bounds(x_values1, popt, sigma)\n",
    "    plt.plot(x_values1, logistic_func(x_values1, *popt), '-', color='#c72e29', label='Fitted f(x)')\n",
    "    # plt.plot(x_values1, upper_bound, 'b--', label='f(x)±2σ')\n",
    "    # plt.plot(x_values1, lower_bound, 'b--', label='f(x)±2σ')\n",
    "    fig1 = sn.scatterplot(x=\"Predicted Score_\" + algo_name1, y=\"MOS\", data=result, markers='o', color='steelblue', label=algo_name1)\n",
    "    plt.legend(loc='upper left')\n",
    "    plt.ylim(1, 5)\n",
    "    plt.xlim(1, 5)\n",
    "\n",
    "    plt.title(title_name, fontsize=10)\n",
    "    plt.xlabel('Predicted Score')\n",
    "    plt.ylabel('MOS')\n",
    "    reg_fig1 = fig1.get_figure()\n",
    "    reg_fig1.savefig(fig_name, dpi=400)\n",
    "fig_name"
   ],
   "metadata": {
    "collapsed": false
   }
  },
  {
   "cell_type": "code",
   "execution_count": 51,
   "outputs": [
    {
     "name": "stdout",
     "output_type": "stream",
     "text": [
      "../fig/correlation/KONVID_1K_NSS_CNN_Correlaiton.csv\n"
     ]
    },
    {
     "data": {
      "text/plain": "             DATASET PER RESOLUTION    MODEL      SRCC      KRCC      PLCC  \\\n0  KONVID_1K_testOn_YOUTUBE_UGC_ALL  NSS_CNN  0.594876  0.423098  0.601268   \n\n       RMSE  \n0  0.549505  ",
      "text/html": "<div>\n<style scoped>\n    .dataframe tbody tr th:only-of-type {\n        vertical-align: middle;\n    }\n\n    .dataframe tbody tr th {\n        vertical-align: top;\n    }\n\n    .dataframe thead th {\n        text-align: right;\n    }\n</style>\n<table border=\"1\" class=\"dataframe\">\n  <thead>\n    <tr style=\"text-align: right;\">\n      <th></th>\n      <th>DATASET PER RESOLUTION</th>\n      <th>MODEL</th>\n      <th>SRCC</th>\n      <th>KRCC</th>\n      <th>PLCC</th>\n      <th>RMSE</th>\n    </tr>\n  </thead>\n  <tbody>\n    <tr>\n      <th>0</th>\n      <td>KONVID_1K_testOn_YOUTUBE_UGC_ALL</td>\n      <td>NSS_CNN</td>\n      <td>0.594876</td>\n      <td>0.423098</td>\n      <td>0.601268</td>\n      <td>0.549505</td>\n    </tr>\n  </tbody>\n</table>\n</div>"
     },
     "execution_count": 51,
     "metadata": {},
     "output_type": "execute_result"
    }
   ],
   "source": [
    "if data_split == True:\n",
    "    data_name = data_name\n",
    "else:\n",
    "    data_name = test_data\n",
    "\n",
    "if pred_option == 'one':\n",
    "    srcc = scipy.stats.spearmanr(mos1, y1)[0]\n",
    "    krcc = scipy.stats.kendalltau(mos1, y1)[0]\n",
    "    plcc = scipy.stats.pearsonr(mos1, y1)[0]\n",
    "    rmse = np.sqrt(mean_squared_error(mos1, y1))\n",
    "\n",
    "    correlation_name = f'{fig_path}/correlation/{data_name}_{algo_name1}_Correlaiton.csv'\n",
    "    print(correlation_name)\n",
    "\n",
    "    df_results = pd.DataFrame(columns=['DATASET PER RESOLUTION', 'MODEL', 'SRCC', 'KRCC', 'PLCC', 'RMSE'])\n",
    "    df_results['DATASET PER RESOLUTION'] = [resolution_name]\n",
    "    df_results['MODEL'] = [algo_name1]\n",
    "    df_results['SRCC'] = [srcc]\n",
    "    df_results['KRCC'] = [krcc]\n",
    "    df_results['PLCC'] = [plcc]\n",
    "    df_results['RMSE'] = [rmse]\n",
    "    df_results.to_csv(correlation_name, index=None)\n",
    "df_results"
   ],
   "metadata": {
    "collapsed": false
   }
  },
  {
   "cell_type": "code",
   "execution_count": 52,
   "outputs": [
    {
     "data": {
      "text/plain": "             DATASET PER RESOLUTION    MODEL      SRCC      KRCC      PLCC  \\\n0  KONVID_1K_testOn_YOUTUBE_UGC_ALL  NSS_CNN  0.549924  0.383239  0.535965   \n\n       RMSE  \n0  0.581699  ",
      "text/html": "<div>\n<style scoped>\n    .dataframe tbody tr th:only-of-type {\n        vertical-align: middle;\n    }\n\n    .dataframe tbody tr th {\n        vertical-align: top;\n    }\n\n    .dataframe thead th {\n        text-align: right;\n    }\n</style>\n<table border=\"1\" class=\"dataframe\">\n  <thead>\n    <tr style=\"text-align: right;\">\n      <th></th>\n      <th>DATASET PER RESOLUTION</th>\n      <th>MODEL</th>\n      <th>SRCC</th>\n      <th>KRCC</th>\n      <th>PLCC</th>\n      <th>RMSE</th>\n    </tr>\n  </thead>\n  <tbody>\n    <tr>\n      <th>0</th>\n      <td>KONVID_1K_testOn_YOUTUBE_UGC_ALL</td>\n      <td>NSS_CNN</td>\n      <td>0.549924</td>\n      <td>0.383239</td>\n      <td>0.535965</td>\n      <td>0.581699</td>\n    </tr>\n  </tbody>\n</table>\n</div>"
     },
     "execution_count": 52,
     "metadata": {},
     "output_type": "execute_result"
    }
   ],
   "source": [
    "if pred_option == 'one':\n",
    "    # random list\n",
    "    rl = np.random.randint(len(mos1),size= int(len(mos1)*0.2))\n",
    "    srcc_random = scipy.stats.spearmanr(mos1[rl],y1[rl])[0]\n",
    "    krcc_random = scipy.stats.kendalltau(mos1[rl], y1[rl])[0]\n",
    "    plcc_random = scipy.stats.pearsonr(mos1[rl], y1[rl])[0]\n",
    "    rmse_random = np.sqrt(mean_squared_error(mos1[rl], y1[rl]))\n",
    "\n",
    "    df_results = pd.DataFrame(columns=['DATASET PER RESOLUTION', 'MODEL', 'SRCC', 'KRCC', 'PLCC', 'RMSE'])\n",
    "    df_results['DATASET PER RESOLUTION'] = [resolution_name]\n",
    "    df_results['MODEL'] = [algo_name1]\n",
    "    df_results['SRCC'] = [srcc_random]\n",
    "    df_results['KRCC'] = [krcc_random]\n",
    "    df_results['PLCC'] = [plcc_random]\n",
    "    df_results['RMSE'] = [rmse_random]\n",
    "df_results"
   ],
   "metadata": {
    "collapsed": false
   }
  },
  {
   "cell_type": "markdown",
   "source": [
    "# pred_MOS_compare"
   ],
   "metadata": {
    "collapsed": false
   }
  },
  {
   "cell_type": "code",
   "execution_count": 53,
   "outputs": [],
   "source": [
    "# if pred_option == 'compare':\n",
    "#     '''======================== parameters ================================'''\n",
    "#     model_name = 'SVR'\n",
    "#\n",
    "#     resolution_op = '/all/' #'/all/'\n",
    "#     model_path = '../model' + resolution_op\n",
    "#     fig_path = '../fig/compare/'\n",
    "#\n",
    "#     data_split = True\n",
    "#     data_name = 'KONVID_1K'\n",
    "#     algo_name1 = 'VSFACNN'\n",
    "#     algo_name2 = 'VSFACNN_Saliency'\n",
    "#     fig_op = 'ALL'"
   ],
   "metadata": {
    "collapsed": false
   }
  },
  {
   "cell_type": "code",
   "execution_count": 54,
   "outputs": [],
   "source": [
    "# if pred_option == 'compare':\n",
    "#     if data_split == True:\n",
    "#         train_data = 'train_' + data_name   # 'train_KONVID_1K/train_YOUTUBE_UGC_ALL/train_COMBINED'\n",
    "#         test_data = 'test_' + data_name   # 'test_KONVID_1K/test_YOUTUBE_UGC_ALL/test_COMBINED'\n",
    "#         resolution_name = 'test_' + data_name   # 'KONVID_1K/YOUTUBE_UGC_ALL/COMBINED'\n",
    "#\n",
    "#         # read npy for train_test_split\n",
    "#         npy_feats_test1 = np.load('../train_test' + resolution_op + test_data + '_' + algo_name1 + '_' + 'feats.npy', allow_pickle=True)\n",
    "#         npy_scores_test1 = np.load('../train_test' + resolution_op + test_data + '_' + algo_name1 + '_' + 'scores.npy', allow_pickle=True)\n",
    "#         npy_feats_test2 = np.load('../train_test' + resolution_op + test_data + '_' + algo_name2 + '_' + 'feats.npy', allow_pickle=True)\n",
    "#         npy_scores_test2 = np.load('../train_test' + resolution_op + test_data + '_' + algo_name2 + '_' + 'scores.npy', allow_pickle=True)\n",
    "#         try:\n",
    "#             video_name1 = npy_scores_test1[:, 0]\n",
    "#             mos1 = npy_scores_test1[:, 1]\n",
    "#             video_name2 = npy_scores_test2[:, 0]\n",
    "#             mos2 = npy_scores_test2[:, 1]\n",
    "#             if (video_name1 == video_name2).all():\n",
    "#                 print('equal')\n",
    "#                 video_name = video_name1 + '--' + video_name2\n",
    "#             else:\n",
    "#                 print('not equal')\n",
    "#                 video_name = video_name1 + '--' + video_name2\n",
    "#             if (mos1 == mos2).all():\n",
    "#                 print('equal')\n",
    "#                 mos = mos1 = mos2\n",
    "#             else:\n",
    "#                 print('not equal')\n",
    "#         except:\n",
    "#             raise Exception('Read npy file error!')\n",
    "#         '''======================== read files =============================== '''\n",
    "#         X1 = npy_feats_test1\n",
    "#         X1[np.isnan(X1)] = 0\n",
    "#         X1[np.isinf(X1)] = 0\n",
    "#\n",
    "#         X2 = npy_feats_test2\n",
    "#         X2[np.isnan(X2)] = 0\n",
    "#         X2[np.isinf(X2)] = 0\n",
    "#\n",
    "#         # save model\n",
    "#         model_file1 = os.path.join(model_path, train_data + '_' + algo_name1 + '_trained_svr.pkl')\n",
    "#         scaler_file1 = os.path.join(model_path, train_data + '_' + algo_name1 + '_trained_scaler.pkl')\n",
    "#         pars_file1 = os.path.join(model_path, train_data + '_' + algo_name1 + '_logistic_pars.mat')\n",
    "#\n",
    "#         model_file2 = os.path.join(model_path, train_data + '_' + algo_name2 + '_trained_svr.pkl')\n",
    "#         scaler_file2 = os.path.join(model_path, train_data + '_' + algo_name2 + '_trained_scaler.pkl')\n",
    "#         pars_file2 = os.path.join(model_path, train_data + '_' + algo_name2 + '_logistic_pars.mat')\n",
    "#\n",
    "#         print(\"Predict quality scores using pretrained {} with {} on split dataset {} ...\".format(train_data + '_' + algo_name1 , model_name, test_data))\n",
    "#         print(\"Predict quality scores using pretrained {} with {} on split dataset {} ...\".format(train_data + '_' + algo_name2, model_name, test_data))\n",
    "#\n",
    "#         '''======================== read saved model =============================== '''\n",
    "#         model1 = joblib.load(model_file1)\n",
    "#         scaler1 = joblib.load(scaler_file1)\n",
    "#         popt1 = np.asarray(scipy.io.loadmat(pars_file1)['popt'][0], dtype=np.float)\n",
    "#\n",
    "#         model2 = joblib.load(model_file2)\n",
    "#         scaler2 = joblib.load(scaler_file2)\n",
    "#         popt2 = np.asarray(scipy.io.loadmat(pars_file2)['popt'][0], dtype=np.float)\n",
    "#\n",
    "#         # Algorithm 1\n",
    "#         X1 = scaler1.transform(X1)\n",
    "#         y_pred1 = model1.predict(X1)\n",
    "#         y1 = logistic_func(y_pred1, *popt1)\n",
    "#         # print('Predicted MOS in [1,5]:')\n",
    "#         # print(y1)\n",
    "#\n",
    "#         # Algorithm 2\n",
    "#         X2 = scaler2.transform(X2)\n",
    "#         y_pred2 = model2.predict(X2)\n",
    "#         y2 = logistic_func(y_pred2, *popt2)\n",
    "#         # print('Predicted MOS in [1,5]:')\n",
    "#         # print(y2)"
   ],
   "metadata": {
    "collapsed": false
   }
  },
  {
   "cell_type": "code",
   "execution_count": 55,
   "outputs": [],
   "source": [
    "# if pred_option == 'compare':\n",
    "#     if data_split == False:\n",
    "#         train_model_data = 'COMBINED'  # 'YOUTUBE_UGC_ALL/KONVID_1K/COMBINED'\n",
    "#         test_data = 'KONVID_1K'     # 'KONVID_1K/YOUTUBE_UGC_ALL/COMBINED'\n",
    "#         resolution_name = 'KONVID_1K_testOn_COMBINED'   # 'KONVID_1K/YOUTUBE_UGC_ALL/COMBINED'\n",
    "#\n",
    "#         # read mat file for all dataset\n",
    "#         mat_file = os.path.join('../feat_file' + resolution_op, test_data + '_' + algo_name1 + '_feats.mat')\n",
    "#         print(mat_file)\n",
    "#         mat_ori = os.path.join('../feat_file' + resolution_op, test_data + '_' + algo_name2 + '_feats.mat')\n",
    "#         print(mat_ori)\n",
    "#         '''======================== read files =============================== '''\n",
    "#         X_mat1 = scipy.io.loadmat(mat_file)\n",
    "#         X1 = np.asarray(X_mat1['feats_mat'], dtype=np.float)\n",
    "#         X1[np.isnan(X1)] = 0\n",
    "#         X1[np.isinf(X1)] = 0\n",
    "#\n",
    "#         X_mat2 = scipy.io.loadmat(mat_ori)\n",
    "#         X2 = np.asarray(X_mat2['feats_mat'], dtype=np.float)\n",
    "#         X2[np.isnan(X2)] = 0\n",
    "#         X2[np.isinf(X2)] = 0\n",
    "#\n",
    "#         # save model\n",
    "#         model_file1 = os.path.join(model_path, train_model_data + '_' + algo_name1 + '_trained_svr.pkl')\n",
    "#         scaler_file1 = os.path.join(model_path, train_model_data + '_' + algo_name1 + '_trained_scaler.pkl')\n",
    "#         pars_file1 = os.path.join(model_path, train_model_data + '_' + algo_name1 + '_logistic_pars.mat')\n",
    "#\n",
    "#         model_file2 = os.path.join(model_path, train_model_data + '_' + algo_name2 + '_trained_svr.pkl')\n",
    "#         scaler_file2 = os.path.join(model_path, train_model_data + '_' + algo_name2 + '_trained_scaler.pkl')\n",
    "#         pars_file2 = os.path.join(model_path, train_model_data + '_' + algo_name2 + '_logistic_pars.mat')\n",
    "#\n",
    "#         print(\"Predict quality scores using pretrained {} with {} on dataset {} ...\".format(train_model_data + '_' + algo_name1, model_name,\n",
    "#                                                                                             test_data))\n",
    "#         print(\"Predict quality scores using pretrained {} with {} on dataset {} ...\".format(train_model_data + '_' + algo_name2, model_name,\n",
    "#                                                                                             test_data))\n",
    "#         '''======================== read saved model =============================== '''\n",
    "#         model1 = joblib.load(model_file1)\n",
    "#         scaler1 = joblib.load(scaler_file1)\n",
    "#         popt1 = np.asarray(scipy.io.loadmat(pars_file1)['popt'][0], dtype=np.float)\n",
    "#\n",
    "#         model2 = joblib.load(model_file2)\n",
    "#         scaler2 = joblib.load(scaler_file2)\n",
    "#         popt2 = np.asarray(scipy.io.loadmat(pars_file2)['popt'][0], dtype=np.float)\n",
    "#\n",
    "#         # algorithm 1\n",
    "#         X1 = scaler1.transform(X1)\n",
    "#         y_pred1 = model1.predict(X1)\n",
    "#         y1 = logistic_func(y_pred1, *popt1)\n",
    "#         # print('Predicted MOS in [1,5]:')\n",
    "#         # print(y1)\n",
    "#\n",
    "#         # algorithm 2\n",
    "#         X2 = scaler2.transform(X2)\n",
    "#         y_pred2 = model2.predict(X2)\n",
    "#         y2 = logistic_func(y_pred2, *popt2)\n",
    "#         # print('Predicted MOS in [1,5]:')\n",
    "#         # print(y2)\n",
    "#\n",
    "#         if test_data == 'KONVID_1K':\n",
    "#             csv_file = '../mos_file/' + test_data + '_metadata.csv'\n",
    "#             try:\n",
    "#                 d = pandas.read_csv(csv_file)\n",
    "#                 video_name = d['flickr_id']\n",
    "#                 mos = d['mos']\n",
    "#             except:\n",
    "#                 raise Exception('Read csv file error!')\n",
    "#         elif test_data == 'YOUTUBE_UGC_ALL':\n",
    "#             csv_file = '../mos_file/'+test_data+'_metadata.csv'\n",
    "#             try:\n",
    "#                 d = pandas.read_csv(csv_file)\n",
    "#                 video_name = d['vid']\n",
    "#                 mos = d['MOSFull']\n",
    "#             except:\n",
    "#                 raise Exception('Read csv file error!')"
   ],
   "metadata": {
    "collapsed": false
   }
  },
  {
   "cell_type": "code",
   "execution_count": 56,
   "outputs": [],
   "source": [
    "# if pred_option == 'compare':\n",
    "#     data = {'Video_name': video_name,\n",
    "#             'MOS1': mos1,\n",
    "#             'y_pred1': y_pred1,\n",
    "#             \"Predicted Score_\" + algo_name1: y1,\n",
    "#             'MOS2': mos2,\n",
    "#             'y_pred2': y_pred2,\n",
    "#             \"Predicted Score_\" + algo_name2: y2}\n",
    "#     result = pandas.DataFrame(data)\n",
    "#\n",
    "#     mos1 = np.array(mos1, dtype=np.float64)\n",
    "#     mos2 = np.array(mos2, dtype=np.float64)\n",
    "#     y1 = np.array(y1, dtype=np.float64)\n",
    "#     y2 = np.array(y2, dtype=np.float64)"
   ],
   "metadata": {
    "collapsed": false
   }
  },
  {
   "cell_type": "code",
   "execution_count": 57,
   "outputs": [],
   "source": [
    "# if pred_option == 'compare':\n",
    "#     if fig_op ==algo_name1:\n",
    "#         print('=======================' + algo_name1 + '===============================')\n",
    "#         # scatter plot for one test dataset\n",
    "#         # nonlinear logistic fitted curve / logistic regression\n",
    "#         try:\n",
    "#             beta = [np.max(mos1), np.min(mos1), np.mean(y1), 0.5]\n",
    "#             popt, pcov = curve_fit(logistic_func, y1, mos1, p0=beta, maxfev=100000000)\n",
    "#             sigma = np.sqrt(np.diag(pcov))\n",
    "#         except:\n",
    "#             raise Exception('Fitting logistic function time-out!!')\n",
    "#         x_values1 = np.linspace(np.min(y1), np.max(y1), len(y1))\n",
    "#         upper_bound, lower_bound = curve_bounds(x_values1, popt, sigma)\n",
    "#         plt.plot(x_values1, logistic_func(x_values1, *popt), '-', color='#c72e29', label='Fitted f(x)')\n",
    "#         # plt.plot(x_values1, upper_bound, 'b--', label='f(x)±2σ')\n",
    "#         # plt.plot(x_values1, lower_bound, 'b--', label='f(x)±2σ')\n",
    "#         fig1 = sn.scatterplot(x=\"Predicted Score_\" + algo_name1, y=\"MOS1\", data=result, markers='o', color='steelblue', label=algo_name1)\n",
    "#         plt.legend(loc='upper left')\n",
    "#         plt.ylim(1, 5)\n",
    "#         plt.xlim(1, 5)\n",
    "#         plt.title(resolution_name, fontsize=10)\n",
    "#         plt.xlabel('Predicted Score')\n",
    "#         plt.ylabel('MOS')\n",
    "#         reg_fig1 = fig1.get_figure()\n",
    "#         reg_fig1.savefig(fig_path + resolution_name + '_' + algo_name1, dpi=400)"
   ],
   "metadata": {
    "collapsed": false
   }
  },
  {
   "cell_type": "code",
   "execution_count": 58,
   "outputs": [],
   "source": [
    "# if pred_option == 'compare':\n",
    "#     if fig_op == algo_name2:\n",
    "#         print('========================' + algo_name2 + '==============================')\n",
    "#         # nonlinear logistic fitted curve / logistic regression\n",
    "#         try:\n",
    "#             beta = [np.max(mos2), np.min(mos2), np.mean(y2), 0.5]\n",
    "#             popt, pcov = curve_fit(logistic_func, y2, mos2, p0=beta, maxfev=100000000)\n",
    "#             sigma = np.sqrt(np.diag(pcov))\n",
    "#         except:\n",
    "#             raise Exception('Fitting logistic function time-out!!')\n",
    "#         x_values2 = np.linspace(np.min(y2), np.max(y2), len(y2))\n",
    "#         upper_bound, lower_bound = curve_bounds(x_values2, popt, sigma)\n",
    "#         plt.plot(x_values2, logistic_func(x_values2, *popt), '-', color='#c72e29', label='Fitted f(x)')\n",
    "#         # plt.plot(x_values2, upper_bound, 'b--', label='f(x)±2σ')\n",
    "#         # plt.plot(x_values2, lower_bound, 'b--', label='f(x)±2σ')\n",
    "#         fig2 = sn.scatterplot(\"Predicted Score_\" + algo_name2, y=\"MOS2\", data=result, markers='X', color='darkorange', label=algo_name2)\n",
    "#         plt.legend(loc='upper left')\n",
    "#         plt.ylim(1, 5)\n",
    "#         plt.xlim(1, 5)\n",
    "#         plt.title(resolution_name, fontsize=10)\n",
    "#         plt.xlabel('Predicted Score')\n",
    "#         plt.ylabel('MOS')\n",
    "#         reg_fig2 = fig2.get_figure()\n",
    "#         reg_fig2.savefig(fig_path + resolution_name + '_' + algo_name2, dpi=400)"
   ],
   "metadata": {
    "collapsed": false
   }
  },
  {
   "cell_type": "code",
   "execution_count": 59,
   "outputs": [],
   "source": [
    "# if pred_option == 'compare':\n",
    "#     if fig_op == 'ALL':\n",
    "#         print('=========================ALL=============================')\n",
    "#         # scatter plot for two test dataset\n",
    "#         sn.scatterplot(x=\"Predicted Score_\" + algo_name1, y=\"MOS1\", data=result, markers='X', color='darkorange', label=algo_name1)\n",
    "#         # print(sorted(result[\"Predicted Score_\" + algo_name2].tolist()))\n",
    "#         fig = sn.scatterplot(x=\"Predicted Score_\" + algo_name2, y=\"MOS2\", data=result, markers='o', color='steelblue', label=algo_name2)\n",
    "#         plt.legend(loc='upper left', title=\"Algorithm\")\n",
    "#         plt.ylim(1, 5)\n",
    "#         plt.xlim(1, 5)\n",
    "#         plt.title(resolution_name, fontsize=10)\n",
    "#         plt.xlabel('Predicted Score')\n",
    "#         plt.ylabel('MOS')\n",
    "#         reg_fig = fig.get_figure()\n",
    "#         reg_fig.savefig(fig_path + resolution_name + '_' + algo_name1 + '_vs_' + algo_name2, dpi=400)"
   ],
   "metadata": {
    "collapsed": false
   }
  }
 ],
 "metadata": {
  "kernelspec": {
   "display_name": "Python 3",
   "language": "python",
   "name": "python3"
  },
  "language_info": {
   "codemirror_mode": {
    "name": "ipython",
    "version": 2
   },
   "file_extension": ".py",
   "mimetype": "text/x-python",
   "name": "python",
   "nbconvert_exporter": "python",
   "pygments_lexer": "ipython2",
   "version": "2.7.6"
  }
 },
 "nbformat": 4,
 "nbformat_minor": 0
}
